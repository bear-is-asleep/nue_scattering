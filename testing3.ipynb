{
 "cells": [
  {
   "cell_type": "code",
   "execution_count": 1,
   "metadata": {},
   "outputs": [],
   "source": [
    "import sys\n",
    "sys.path.append('/sbnd/app/users/brindenc/mypython') #My utils path\n",
    "from bc_utils.CAFana import pic as CAFpic\n",
    "from bc_utils.CAFana import plotters as CAFplotters\n",
    "from bc_utils.utils import pic,plotters\n",
    "from time import time\n",
    "import numpy as np\n",
    "import pandas as pd\n",
    "import uproot\n",
    "import matplotlib.pyplot as plt\n",
    "import seaborn as sns\n",
    "from numpy import genfromtxt\n",
    "from datetime import date\n",
    "\n",
    "%load_ext autoreload\n",
    "%autoreload 2\n",
    "\n",
    "plt.style.use(['science','no-latex'])\n",
    "day = date.today().strftime(\"%Y_%m_%d\")\n",
    "\n",
    "#Params import\n",
    "import nuecc"
   ]
  },
  {
   "cell_type": "code",
   "execution_count": 4,
   "metadata": {},
   "outputs": [
    {
     "data": {
      "text/plain": [
       "(0.16070206546947005, 0.1533)"
      ]
     },
     "execution_count": 4,
     "metadata": {},
     "output_type": "execute_result"
    }
   ],
   "source": [
    "0.511*0.3/(np.sqrt(1-0.3**2)),0.511*0.3"
   ]
  },
  {
   "cell_type": "code",
   "execution_count": 2,
   "metadata": {},
   "outputs": [
    {
     "data": {
      "text/plain": [
       "array([0.   , 0.001, 0.002, 0.003, 0.004, 0.005, 0.006, 0.007, 0.008,\n",
       "       0.009])"
      ]
     },
     "execution_count": 2,
     "metadata": {},
     "output_type": "execute_result"
    }
   ],
   "source": [
    "np.arange(0,0.01,0.001)"
   ]
  },
  {
   "cell_type": "code",
   "execution_count": 2,
   "metadata": {},
   "outputs": [],
   "source": [
    "#Constants/parameters\n",
    "pot1 = nuecc.pot1\n",
    "pot2 = 1e19\n",
    "SEED = nuecc.SEED\n",
    "n = nuecc.n #number of random universes\n",
    "ntrk = 50 #Size of shower confusion matrix\n",
    "nshw = 50 #Size of track confusion matrix\n",
    "E_threshold = 0.021 #GeV energy threshold for visible hadron (ArgoNeut)\n",
    "E_threshold_exotic = E_threshold #Set same for now\n",
    "DATA_DIR = nuecc.DATA_DIR\n",
    "suffix = '_full'\n",
    "#suffix = ''\n",
    "xls=16\n",
    "tls=20\n",
    "lls=16"
   ]
  },
  {
   "cell_type": "code",
   "execution_count": 3,
   "metadata": {},
   "outputs": [],
   "source": [
    "#Get data\n",
    "nue_reco_cuts = pd.read_csv(f'{DATA_DIR}reco_cuts_nue{suffix}.csv')\n",
    "nuecc_reco_cuts = pd.read_csv(f'{DATA_DIR}reco_cuts_nuecc{suffix}.csv')\n",
    "nue_truth_cuts = pd.read_csv(f'{DATA_DIR}truth_cuts_nue{suffix}.csv')\n",
    "nuecc_truth_cuts = pd.read_csv(f'{DATA_DIR}truth_cuts_nuecc{suffix}.csv')\n",
    "\n",
    "shwconfusion_nue = genfromtxt(f'{DATA_DIR}shwconfusion_n0_nue{suffix}.csv',delimiter=',')\n",
    "shwconfusion_nuecc = genfromtxt(f'{DATA_DIR}shwconfusion_n0_nuecc{suffix}.csv',delimiter=',')\n",
    "trkconfusion_nue = genfromtxt(f'{DATA_DIR}trkconfusion_n0_nue{suffix}.csv',delimiter=',')\n",
    "trkconfusion_nuecc = genfromtxt(f'{DATA_DIR}trkconfusion_n0_nuecc{suffix}.csv',delimiter=',')\n",
    "\n",
    "shwconfusion_nue_cut1 = genfromtxt(f'{DATA_DIR}shwconfusion_n0_cut1nue{suffix}.csv',delimiter=',')\n",
    "shwconfusion_nuecc_cut1 = genfromtxt(f'{DATA_DIR}shwconfusion_n0_cut1nuecc{suffix}.csv',delimiter=',')\n",
    "trkconfusion_nue_cut1 = genfromtxt(f'{DATA_DIR}trkconfusion_n0_cut1nue{suffix}.csv',delimiter=',')\n",
    "trkconfusion_nuecc_cut1 = genfromtxt(f'{DATA_DIR}trkconfusion_n0_cut1nuecc{suffix}.csv',delimiter=',')\n",
    "\n",
    "shwconfusion_nue_mean = genfromtxt(f'{DATA_DIR}shwconfusion_mean_nue{suffix}.csv',delimiter=',')\n",
    "shwconfusion_nuecc_mean = genfromtxt(f'{DATA_DIR}shwconfusion_mean_nuecc{suffix}.csv',delimiter=',')\n",
    "trkconfusion_nue_mean = genfromtxt(f'{DATA_DIR}trkconfusion_mean_nue{suffix}.csv',delimiter=',')\n",
    "trkconfusion_nuecc_mean = genfromtxt(f'{DATA_DIR}trkconfusion_mean_nuecc{suffix}.csv',delimiter=',')"
   ]
  },
  {
   "cell_type": "code",
   "execution_count": 4,
   "metadata": {},
   "outputs": [],
   "source": [
    "#Track plots\n",
    "plt.figure(figsize=(7,6))\n",
    "ax = sns.heatmap(trkconfusion_nue[:5,:5]/np.sum(trkconfusion_nue[:5,:5]),annot=True,linewidths=.5,fmt='.2%')\n",
    "ax.set_xlabel('Truth',fontsize=xls)\n",
    "ax.set_ylabel('Reco',fontsize=xls)\n",
    "ax.set_title(r'$\\nu+e$ Track Precuts',fontsize=tls)\n",
    "plotters.save_plot(f'nue_trk_confusion')\n",
    "plt.close()\n",
    "\n",
    "plt.figure(figsize=(7,6))\n",
    "ax = sns.heatmap(trkconfusion_nuecc[:5,:5]/np.sum(trkconfusion_nuecc[:5,:5]),annot=True,linewidths=.5,fmt='.2%')\n",
    "ax.set_xlabel('Truth',fontsize=xls)\n",
    "ax.set_ylabel('Reco',fontsize=xls)\n",
    "ax.set_title(r'$\\nu_e$ Track Precuts',fontsize=tls)\n",
    "plotters.save_plot(f'nuecc_trk_confusion')\n",
    "plt.close()\n",
    "\n",
    "plt.figure(figsize=(7,6))\n",
    "ax = sns.heatmap(trkconfusion_nue_cut1[:5,:5]/np.sum(trkconfusion_nue_cut1[:5,:5]),annot=True,linewidths=.5,fmt='.2%')\n",
    "ax.set_xlabel('Truth',fontsize=xls)\n",
    "ax.set_ylabel('Reco',fontsize=xls)\n",
    "ax.set_title(r'$\\nu+e$ Track Postcuts $E_e\\theta_e^2 < 0.003$ [GeV rad$^2$]',fontsize=tls-2)\n",
    "plotters.save_plot(f'nue_trk_confusion_cut1')\n",
    "plt.close()\n",
    "\n",
    "plt.figure(figsize=(7,6))\n",
    "ax = sns.heatmap(trkconfusion_nuecc_cut1[:5,:5]/np.sum(trkconfusion_nuecc_cut1[:5,:5]),annot=True,linewidths=.5,fmt='.2%')\n",
    "ax.set_xlabel('Truth',fontsize=xls)\n",
    "ax.set_ylabel('Reco',fontsize=xls)\n",
    "ax.set_title(r'$\\nu_e$ Track Postcuts $E_e\\theta_e^2 < 0.003$ [GeV rad$^2$]',fontsize=tls-2)\n",
    "plotters.save_plot(f'nuecc_trk_confusion_cut1')\n",
    "plt.close()"
   ]
  },
  {
   "cell_type": "code",
   "execution_count": 5,
   "metadata": {},
   "outputs": [],
   "source": [
    "#Shower plots\n",
    "plt.figure(figsize=(7,6))\n",
    "ax = sns.heatmap(shwconfusion_nue[:5,:5]/np.sum(shwconfusion_nue[:5,:5]),annot=True,linewidths=.5,fmt='.2%')\n",
    "ax.set_xlabel('Truth',fontsize=xls)\n",
    "ax.set_ylabel('Reco',fontsize=xls)\n",
    "ax.set_title(r'$\\nu+e$ Shower Precuts',fontsize=tls)\n",
    "plotters.save_plot(f'nue_shw_confusion')\n",
    "plt.close()\n",
    "\n",
    "plt.figure(figsize=(7,6))\n",
    "ax = sns.heatmap(shwconfusion_nuecc[:5,:5]/np.sum(shwconfusion_nuecc[:5,:5]),annot=True,linewidths=.5,fmt='.2%')\n",
    "ax.set_xlabel('Truth',fontsize=xls)\n",
    "ax.set_ylabel('Reco',fontsize=xls)\n",
    "ax.set_title(r'$\\nu_e$ Shower Precuts',fontsize=tls)\n",
    "plotters.save_plot(f'nuecc_shw_confusion')\n",
    "plt.close()\n",
    "\n",
    "plt.figure(figsize=(7,6))\n",
    "ax = sns.heatmap(shwconfusion_nue_cut1[:5,:5]/np.sum(shwconfusion_nue_cut1[:5,:5]),annot=True,linewidths=.5,fmt='.2%')\n",
    "ax.set_xlabel('Truth',fontsize=xls)\n",
    "ax.set_ylabel('Reco',fontsize=xls)\n",
    "ax.set_title(r'$\\nu+e$ Shower Postcuts $E_e\\theta_e^2 < 0.003$ [GeV rad$^2$]',fontsize=tls-2)\n",
    "plotters.save_plot(f'nue_shw_confusion_cut1')\n",
    "plt.close()\n",
    "\n",
    "plt.figure(figsize=(7,6))\n",
    "ax = sns.heatmap(shwconfusion_nuecc[:5,:5]/np.sum(shwconfusion_nuecc[:5,:5]),annot=True,linewidths=.5,fmt='.2%')\n",
    "ax.set_xlabel('Truth',fontsize=xls)\n",
    "ax.set_ylabel('Reco',fontsize=xls)\n",
    "ax.set_title(r'$\\nu_e$ Shower Postcuts $E_e\\theta_e^2 < 0.003$ [GeV rad$^2$]',fontsize=tls-2)\n",
    "plotters.save_plot(f'nuecc_shw_confusion_cut1')\n",
    "plt.close()"
   ]
  },
  {
   "cell_type": "code",
   "execution_count": null,
   "metadata": {},
   "outputs": [],
   "source": []
  },
  {
   "cell_type": "code",
   "execution_count": 23,
   "metadata": {},
   "outputs": [],
   "source": [
    "#Get keys from params\n",
    "nreco_keys = nuecc.nreco_keys\n",
    "shw_keys = nuecc.shw_keys\n",
    "mcnu_keys = nuecc.mcnu_keys\n",
    "mcprim_keys = nuecc.mcprim_keys"
   ]
  },
  {
   "cell_type": "code",
   "execution_count": 24,
   "metadata": {},
   "outputs": [],
   "source": [
    "#nu + e\n",
    "nue_tree1 = uproot.open(f'{DATA_DIR}CAFnue1{suffix}.root:recTree;1')\n",
    "\n",
    "nue_mc = CAFpic.get_df(nue_tree1,mcnu_keys)\n",
    "nue_mcprim = CAFpic.get_df(nue_tree1,mcprim_keys)\n",
    "nue_nreco = CAFpic.get_df(nue_tree1,nreco_keys) #Make seperate tree to count reco objects\n",
    "nue_shw = CAFpic.get_df(nue_tree1,shw_keys)\n",
    "\n",
    "#nuecc\n",
    "nuecc_tree1 = uproot.open(f'{DATA_DIR}CAFnuecc1{suffix}.root:recTree;1')\n",
    "\n",
    "nuecc_mc = CAFpic.get_df(nuecc_tree1,mcnu_keys)\n",
    "nuecc_mcprim = CAFpic.get_df(nuecc_tree1,mcprim_keys)\n",
    "nuecc_nreco = CAFpic.get_df(nuecc_tree1,nreco_keys) #Make seperate tree to count reco objects\n",
    "nuecc_shw = CAFpic.get_df(nuecc_tree1,shw_keys)"
   ]
  },
  {
   "cell_type": "code",
   "execution_count": 25,
   "metadata": {},
   "outputs": [],
   "source": [
    "#POT + event info\n",
    "pots = nuecc_tree1.arrays('rec.hdr.pot',library='pd')\n",
    "pot_nuecc = pots.values.sum() #Get POT\n",
    "indeces_nuecc = nuecc_mc.index.drop_duplicates()\n",
    "events_nuecc = len(indeces_nuecc)\n",
    "\n",
    "pots = nue_tree1.arrays('rec.hdr.pot',library='pd')\n",
    "pot_nue = pots.values.sum() #Get POT\n",
    "indeces_nue = nue_mc.index.drop_duplicates()\n",
    "events_nue = len(indeces_nue)"
   ]
  },
  {
   "cell_type": "code",
   "execution_count": 26,
   "metadata": {},
   "outputs": [],
   "source": [
    "#Get pot normalized event list\n",
    "seed = 0\n",
    "nuecc_drop_indeces = CAFpic.get_pot_normalized_indeces(indeces_nuecc,pot2,pot_nuecc,seed=SEED*seed)\n",
    "nue_drop_indeces = CAFpic.get_pot_normalized_indeces(indeces_nue,pot2,pot_nue,seed=SEED*seed)"
   ]
  },
  {
   "cell_type": "code",
   "execution_count": 27,
   "metadata": {},
   "outputs": [],
   "source": [
    "#nuecc\n",
    "nuecc_nreco_pot1 = CAFpic.get_df_dropindeces(nuecc_nreco,nuecc_drop_indeces)\n",
    "nuecc_mc_pot1 = CAFpic.get_df_dropindeces(nuecc_mc,nuecc_drop_indeces)\n",
    "nuecc_mcprim_pot1 = CAFpic.get_df_dropindeces(nuecc_mcprim,nuecc_drop_indeces)\n",
    "nuecc_shw_pot1 = CAFpic.get_df_dropindeces(nuecc_shw,nuecc_drop_indeces)\n",
    "\n",
    "\n",
    "#nue\n",
    "nue_nreco_pot1 = CAFpic.get_df_dropindeces(nue_nreco,nue_drop_indeces)\n",
    "nue_mc_pot1 = CAFpic.get_df_dropindeces(nue_mc,nue_drop_indeces)\n",
    "nue_mcprim_pot1 = CAFpic.get_df_dropindeces(nue_mcprim,nue_drop_indeces)\n",
    "nue_shw_pot1 = CAFpic.get_df_dropindeces(nue_shw,nue_drop_indeces)"
   ]
  },
  {
   "cell_type": "code",
   "execution_count": 40,
   "metadata": {},
   "outputs": [
    {
     "data": {
      "text/plain": [
       "rec.mc.nu.iscc            0.000000\n",
       "rec.mc.nu.position.x     -8.938947\n",
       "rec.mc.nu.position.y   -186.359665\n",
       "rec.mc.nu.position.z    194.658585\n",
       "Name: (1, 1, 5), dtype: float32"
      ]
     },
     "execution_count": 40,
     "metadata": {},
     "output_type": "execute_result"
    }
   ],
   "source": [
    "nue_mc.loc[(1,1,5)]"
   ]
  },
  {
   "cell_type": "code",
   "execution_count": null,
   "metadata": {},
   "outputs": [],
   "source": [
    "\n",
    "  \n",
    "\n",
    "  "
   ]
  },
  {
   "cell_type": "code",
   "execution_count": 16,
   "metadata": {},
   "outputs": [
    {
     "data": {
      "image/png": "[encoded data removed]",
      "text/plain": [
       "<Figure size 648x504 with 1 Axes>"
      ]
     },
     "metadata": {
      "needs_background": "light"
     },
     "output_type": "display_data"
    }
   ],
   "source": [
    "\n",
    "labels = [r'$\\nu_e$',r'$\\nu+e$']\n",
    "CAFplotters.back_sig_hist([nue_mc_pot1,nuecc_mc_pot1],labels,f'{CAFpic.mcnuprefix}iscc',1000,xlabel='GENIE CC',bins=[0,1,2,3,4],alpha=0.5)"
   ]
  },
  {
   "cell_type": "code",
   "execution_count": 15,
   "metadata": {},
   "outputs": [
    {
     "data": {
      "text/plain": [
       "Text(0.5, 1.0, '')"
      ]
     },
     "execution_count": 15,
     "metadata": {},
     "output_type": "execute_result"
    },
    {
     "data": {
      "image/png": "[encoded data removed]",
      "text/plain": [
       "<Figure size 648x504 with 1 Axes>"
      ]
     },
     "metadata": {
      "needs_background": "light"
     },
     "output_type": "display_data"
    }
   ],
   "source": [
    "plt.figure(figsize=(9,7))\n",
    "back = nuecc_mc_pot1.loc[:,f'rec.mc.nu.position.x'].values\n",
    "sig = nuecc_mc_pot1.loc[:,f'rec.mc.nu.position.y'].values\n",
    "plt.hist([back,sig],label=[r'$\\nu_e$',r'$\\nu+e$'],stacked=True,alpha=0.7,histtype='bar')\n",
    "#plt.hist(sig,bins=2,label=r'$\\nu+e$',stacked=True,alpha=0.5,histtype='bar')\n",
    "plt.legend()\n",
    "plt.xlabel('CC')\n",
    "plt.title('')"
   ]
  },
  {
   "cell_type": "code",
   "execution_count": 34,
   "metadata": {},
   "outputs": [
    {
     "data": {
      "text/plain": [
       "Text(0.5, 1.0, '')"
      ]
     },
     "execution_count": 34,
     "metadata": {},
     "output_type": "execute_result"
    },
    {
     "data": {
      "image/png": "[encoded data removed]",
      "text/plain": [
       "<Figure size 252x189 with 1 Axes>"
      ]
     },
     "metadata": {
      "needs_background": "light"
     },
     "output_type": "display_data"
    }
   ],
   "source": [
    "back = nuecc_mc_pot1.loc[:,f'{CAFpic.mcnuprefix}iscc'].values\n",
    "sig = nue_mc_pot1.loc[:,f'{CAFpic.mcnuprefix}iscc'].values\n",
    "plt.hist(back,bins=2,label=r'$\\nu_e$',stacked=True)\n",
    "plt.hist(sig,bins=2,label=r'$\\nu+e$',stacked=True)\n",
    "plt.legend()\n",
    "plt.xlabel('CC')\n",
    "plt.title('')"
   ]
  },
  {
   "cell_type": "code",
   "execution_count": null,
   "metadata": {},
   "outputs": [],
   "source": []
  }
 ],
 "metadata": {
  "kernelspec": {
   "display_name": "Python 3.9.10 64-bit",
   "language": "python",
   "name": "python3"
  },
  "language_info": {
   "codemirror_mode": {
    "name": "ipython",
    "version": 3
   },
   "file_extension": ".py",
   "mimetype": "text/x-python",
   "name": "python",
   "nbconvert_exporter": "python",
   "pygments_lexer": "ipython3",
   "version": "3.9.10"
  },
  "orig_nbformat": 4,
  "vscode": {
   "interpreter": {
    "hash": "51aec37dd7fb1921fc1e35ebc6f61bbef3f1d9ffba04ba29b2463a5c055c07be"
   }
  }
 },
 "nbformat": 4,
 "nbformat_minor": 2
}
